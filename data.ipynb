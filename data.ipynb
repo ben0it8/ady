{
 "cells": [
  {
   "cell_type": "code",
   "execution_count": 1,
   "metadata": {
    "scrolled": true
   },
   "outputs": [
    {
     "name": "stdout",
     "output_type": "stream",
     "text": [
      "Collecting textract\n",
      "Collecting SpeechRecognition==3.6.3 (from textract)\n",
      "  Using cached https://files.pythonhosted.org/packages/ce/c7/ab6cd0d00ddf8dc3b537cfb922f3f049f8018f38c88d71fd164f3acb8416/SpeechRecognition-3.6.3-py2.py3-none-any.whl\n",
      "Collecting docx2txt==0.6 (from textract)\n",
      "Collecting six==1.10.0 (from textract)\n",
      "  Using cached https://files.pythonhosted.org/packages/c8/0a/b6723e1bc4c516cb687841499455a8505b44607ab535be01091c0f24f079/six-1.10.0-py2.py3-none-any.whl\n",
      "Collecting chardet==2.3.0 (from textract)\n",
      "  Using cached https://files.pythonhosted.org/packages/7e/5c/605ca2daa5cf21c87690d8fe6ab05a6f2278c451f4ede6456dd26453f4bd/chardet-2.3.0-py2.py3-none-any.whl\n",
      "Collecting argcomplete==1.8.2 (from textract)\n",
      "  Using cached https://files.pythonhosted.org/packages/f0/0f/f965f1520e6ba24b63320919eecfbe3d03debd32402e0c61a08e8fa02d17/argcomplete-1.8.2-py2.py3-none-any.whl\n",
      "Collecting xlrd==1.0.0 (from textract)\n",
      "  Using cached https://files.pythonhosted.org/packages/0c/b0/8946fe3f9c2690c164aaa88dfd43b56347d3cdeac34124b988acd1aaa151/xlrd-1.0.0-py3-none-any.whl\n",
      "Collecting EbookLib==0.15 (from textract)\n",
      "Collecting python-pptx==0.6.5 (from textract)\n",
      "Collecting beautifulsoup4==4.5.3 (from textract)\n",
      "  Using cached https://files.pythonhosted.org/packages/af/a3/9e803f838b3eeb313d45d916d4387cda8572c92e1aafeb53fd43ddb5da2c/beautifulsoup4-4.5.3-py3-none-any.whl\n",
      "Collecting pocketsphinx==0.1.3 (from textract)\n",
      "  Using cached https://files.pythonhosted.org/packages/93/5f/a968e5d53d25e32deb78c3e169fd8612ecf53cc76e32cb40e19be35696af/pocketsphinx-0.1.3.tar.bz2\n",
      "Requirement already satisfied: lxml in /Users/d069049/anaconda3/envs/oli/lib/python3.6/site-packages (from EbookLib==0.15->textract) (4.3.3)\n",
      "Collecting XlsxWriter>=0.5.7 (from python-pptx==0.6.5->textract)\n",
      "  Using cached https://files.pythonhosted.org/packages/6e/57/8c0fe0f6d8a4c57c32528c8b1b31c0daba53af33cd3afedf3fcb0971c75a/XlsxWriter-1.1.5-py2.py3-none-any.whl\n",
      "Collecting Pillow>=2.6.1 (from python-pptx==0.6.5->textract)\n",
      "\u001b[?25l  Downloading https://files.pythonhosted.org/packages/81/96/05a5c9ba4a75ed330234780e4ae30018bbf77c847982ff6a16b8b291a0da/Pillow-5.4.1-cp36-cp36m-macosx_10_6_intel.macosx_10_9_intel.macosx_10_9_x86_64.macosx_10_10_intel.macosx_10_10_x86_64.whl (3.7MB)\n",
      "\u001b[K    100% |████████████████████████████████| 3.7MB 4.4MB/s ta 0:00:01\n",
      "\u001b[?25hBuilding wheels for collected packages: pocketsphinx\n",
      "  Building wheel for pocketsphinx (setup.py) ... \u001b[?25lerror\n",
      "  Complete output from command /Users/d069049/anaconda3/envs/oli/bin/python -u -c \"import setuptools, tokenize;__file__='/private/var/folders/_c/70lfjwwx74b4lq6nscwp5f0r0000gn/T/pip-install-36z673pb/pocketsphinx/setup.py';f=getattr(tokenize, 'open', open)(__file__);code=f.read().replace('\\r\\n', '\\n');f.close();exec(compile(code, __file__, 'exec'))\" bdist_wheel -d /private/var/folders/_c/70lfjwwx74b4lq6nscwp5f0r0000gn/T/pip-wheel-m12njov3 --python-tag cp36:\n",
      "  running bdist_wheel\n",
      "  running build_ext\n",
      "  building 'sphinxbase._ad' extension\n",
      "  swigging swig/sphinxbase/ad.i to swig/sphinxbase/ad_wrap.c\n",
      "  swig -python -modern -Ideps/sphinxbase/include -Ideps/sphinxbase/include/sphinxbase -I/System/Library/Frameworks/OpenAL.framework/Versions/A/Headers -Ideps/sphinxbase/include/android -Ideps/sphinxbase/swig -outdir sphinxbase -o swig/sphinxbase/ad_wrap.c swig/sphinxbase/ad.i\n",
      "  unable to execute 'swig': No such file or directory\n",
      "  error: command 'swig' failed with exit status 1\n",
      "  \n",
      "  ----------------------------------------\n",
      "\u001b[31m  Failed building wheel for pocketsphinx\u001b[0m\n",
      "\u001b[?25h  Running setup.py clean for pocketsphinx\n",
      "Failed to build pocketsphinx\n",
      "\u001b[31mjsonschema 3.0.1 has requirement six>=1.11.0, but you'll have six 1.10.0 which is incompatible.\u001b[0m\n",
      "Installing collected packages: SpeechRecognition, docx2txt, six, chardet, argcomplete, xlrd, EbookLib, XlsxWriter, Pillow, python-pptx, beautifulsoup4, pocketsphinx, textract\n",
      "  Found existing installation: six 1.12.0\n",
      "    Uninstalling six-1.12.0:\n",
      "      Successfully uninstalled six-1.12.0\n",
      "  Running setup.py install for pocketsphinx ... \u001b[?25lerror\n",
      "    Complete output from command /Users/d069049/anaconda3/envs/oli/bin/python -u -c \"import setuptools, tokenize;__file__='/private/var/folders/_c/70lfjwwx74b4lq6nscwp5f0r0000gn/T/pip-install-36z673pb/pocketsphinx/setup.py';f=getattr(tokenize, 'open', open)(__file__);code=f.read().replace('\\r\\n', '\\n');f.close();exec(compile(code, __file__, 'exec'))\" install --record /private/var/folders/_c/70lfjwwx74b4lq6nscwp5f0r0000gn/T/pip-record-ahvi3der/install-record.txt --single-version-externally-managed --compile:\n",
      "    running install\n",
      "    running build_ext\n",
      "    building 'sphinxbase._ad' extension\n",
      "    swigging swig/sphinxbase/ad.i to swig/sphinxbase/ad_wrap.c\n",
      "    swig -python -modern -Ideps/sphinxbase/include -Ideps/sphinxbase/include/sphinxbase -I/System/Library/Frameworks/OpenAL.framework/Versions/A/Headers -Ideps/sphinxbase/include/android -Ideps/sphinxbase/swig -outdir sphinxbase -o swig/sphinxbase/ad_wrap.c swig/sphinxbase/ad.i\n",
      "    unable to execute 'swig': No such file or directory\n",
      "    error: command 'swig' failed with exit status 1\n",
      "    \n",
      "    ----------------------------------------\n",
      "\u001b[31mCommand \"/Users/d069049/anaconda3/envs/oli/bin/python -u -c \"import setuptools, tokenize;__file__='/private/var/folders/_c/70lfjwwx74b4lq6nscwp5f0r0000gn/T/pip-install-36z673pb/pocketsphinx/setup.py';f=getattr(tokenize, 'open', open)(__file__);code=f.read().replace('\\r\\n', '\\n');f.close();exec(compile(code, __file__, 'exec'))\" install --record /private/var/folders/_c/70lfjwwx74b4lq6nscwp5f0r0000gn/T/pip-record-ahvi3der/install-record.txt --single-version-externally-managed --compile\" failed with error code 1 in /private/var/folders/_c/70lfjwwx74b4lq6nscwp5f0r0000gn/T/pip-install-36z673pb/pocketsphinx/\u001b[0m\n",
      "\u001b[?25h"
     ]
    }
   ],
   "source": [
    "!pip install textract"
   ]
  },
  {
   "cell_type": "code",
   "execution_count": 7,
   "metadata": {},
   "outputs": [],
   "source": [
    "import requests\n",
    "import os\n",
    "import sys"
   ]
  },
  {
   "cell_type": "code",
   "execution_count": 10,
   "metadata": {},
   "outputs": [],
   "source": [
    "data_dir = os.path.abspath(\"data\")\n",
    "os.makedirs(data_dir, exist_ok=True)\n",
    "\n",
    "source_url = \"http://mek.oszk.hu/00500/00588/00588.doc\"\n",
    "r = requests.get(source_url)\n",
    "\n",
    "target_path = os.path.join(data_dir, os.path.basename(source_url))\n",
    "with open(target_path, 'wb') as f:\n",
    "    f.write(r.content)"
   ]
  },
  {
   "cell_type": "code",
   "execution_count": 13,
   "metadata": {},
   "outputs": [
    {
     "ename": "ModuleNotFoundError",
     "evalue": "No module named 'textract'",
     "output_type": "error",
     "traceback": [
      "\u001b[0;31m---------------------------------------------------------------------------\u001b[0m",
      "\u001b[0;31mModuleNotFoundError\u001b[0m                       Traceback (most recent call last)",
      "\u001b[0;32m<ipython-input-13-6aeb94a7f383>\u001b[0m in \u001b[0;36m<module>\u001b[0;34m\u001b[0m\n\u001b[0;32m----> 1\u001b[0;31m \u001b[0;32mimport\u001b[0m \u001b[0mtextract\u001b[0m\u001b[0;34m\u001b[0m\u001b[0;34m\u001b[0m\u001b[0m\n\u001b[0m",
      "\u001b[0;31mModuleNotFoundError\u001b[0m: No module named 'textract'"
     ]
    }
   ],
   "source": [
    "import textract"
   ]
  },
  {
   "cell_type": "code",
   "execution_count": null,
   "metadata": {},
   "outputs": [],
   "source": []
  },
  {
   "cell_type": "code",
   "execution_count": 6,
   "metadata": {},
   "outputs": [],
   "source": [
    "r = requests.get(url)"
   ]
  },
  {
   "cell_type": "code",
   "execution_count": 8,
   "metadata": {},
   "outputs": [],
   "source": [
    "# def get_links(url):\n"
   ]
  },
  {
   "cell_type": "code",
   "execution_count": 30,
   "metadata": {},
   "outputs": [],
   "source": [
    "def get_links(url):\n",
    "    r = requests.get(url)\n",
    "    text = r.text\n",
    "    soup = BeautifulSoup(text, 'lxml')\n",
    "    links = []\n",
    "    for link in soup.find_all('a'):\n",
    "        link_url = link.get('href')\n",
    "    #     print(link_url)\n",
    "        if link_url is not None and \"eletrajz\" not in link_url:\n",
    "            if not link_url.startswith(\"http\"):\n",
    "                link_url = url+link_url\n",
    "            links.append(link_url)\n",
    "    return links"
   ]
  },
  {
   "cell_type": "code",
   "execution_count": 31,
   "metadata": {},
   "outputs": [
    {
     "data": {
      "text/plain": [
       "['http://mek.oszk.hu/00500/00588/html/versek01.htm',\n",
       " 'http://mek.oszk.hu/00500/00588/html/versek02.htm',\n",
       " 'http://mek.oszk.hu/00500/00588/html/versek03.htm',\n",
       " 'http://mek.oszk.hu/00500/00588/html/versek04.htm',\n",
       " 'http://mek.oszk.hu/00500/00588/html/versek05.htm',\n",
       " 'http://mek.oszk.hu/00500/00588/html/versek06.htm',\n",
       " 'http://mek.oszk.hu/00500/00588/html/versek07.htm',\n",
       " 'http://mek.oszk.hu/00500/00588/html/versek08.htm',\n",
       " 'http://mek.oszk.hu/00500/00588/html/versek09.htm',\n",
       " 'http://mek.oszk.hu/00500/00588/html/versek10.htm',\n",
       " 'http://mek.oszk.hu/00500/00588/html/versek11.htm',\n",
       " 'http://mek.oszk.hu/00500/00588/html/versek12.htm',\n",
       " 'http://mek.oszk.hu/00500/00588/html/versek13.htm',\n",
       " 'http://mek.oszk.hu/00500/00588/html/versek14.htm',\n",
       " 'http://mek.oszk.hu/00500/00588/html/versek_a.htm',\n",
       " 'http://mek.oszk.hu/00500/00588/html/versek_b.htm',\n",
       " 'http://mek.oszk.hu/00500/00588/html/versek_c.htm',\n",
       " 'http://mek.oszk.hu/00500/00588/html/versek_d.htm',\n",
       " 'http://mek.oszk.hu/00500/00588/html/versek_e.htm',\n",
       " 'http://mek.oszk.hu/00500/00588/html/versek_f.htm',\n",
       " 'http://mek.oszk.hu/00500/00588/html/versek_g.htm',\n",
       " 'http://mek.oszk.hu/00500/00588/html/versek_h.htm',\n",
       " 'http://mek.oszk.hu/00500/00588/html/versek_i.htm',\n",
       " 'http://mek.oszk.hu/00500/00588/html/versek_j.htm',\n",
       " 'http://mek.oszk.hu/00500/00588/html/versek_k.htm',\n",
       " 'http://mek.oszk.hu/00500/00588/html/versek_l.htm',\n",
       " 'http://mek.oszk.hu/00500/00588/html/versek_m.htm',\n",
       " 'http://mek.oszk.hu/00500/00588/html/versek_n.htm',\n",
       " 'http://mek.oszk.hu/00500/00588/html/versek_o.htm',\n",
       " 'http://mek.oszk.hu/00500/00588/html/versek_p.htm',\n",
       " 'http://mek.oszk.hu/00500/00588/html/versek_r.htm',\n",
       " 'http://mek.oszk.hu/00500/00588/html/versek_s.htm',\n",
       " 'http://mek.oszk.hu/00500/00588/html/versek_t.htm',\n",
       " 'http://mek.oszk.hu/00500/00588/html/versek_u.htm',\n",
       " 'http://mek.oszk.hu/00500/00588/html/versek_v.htm',\n",
       " 'http://mek.oszk.hu/00500/00588/html/versek_z.htm']"
      ]
     },
     "execution_count": 31,
     "metadata": {},
     "output_type": "execute_result"
    }
   ],
   "source": [
    "links = get_links(url)\n",
    "links"
   ]
  },
  {
   "cell_type": "code",
   "execution_count": 32,
   "metadata": {},
   "outputs": [
    {
     "data": {
      "text/plain": [
       "'http://mek.oszk.hu/00500/00588/html/versek01.htm'"
      ]
     },
     "execution_count": 32,
     "metadata": {},
     "output_type": "execute_result"
    }
   ],
   "source": [
    "links[0]"
   ]
  },
  {
   "cell_type": "code",
   "execution_count": 29,
   "metadata": {},
   "outputs": [
    {
     "data": {
      "text/plain": [
       "['http://mek.oszk.hu/00500/00588/html/versek01.htmindex.htm',\n",
       " 'http://mek.oszk.hu/00500/00588/html/versek01.htmvers0101.htm#01',\n",
       " 'http://mek.oszk.hu/00500/00588/html/versek01.htmvers0101.htm#02',\n",
       " 'http://mek.oszk.hu/00500/00588/html/versek01.htmvers0101.htm#03',\n",
       " 'http://mek.oszk.hu/00500/00588/html/versek01.htmvers0101.htm#04',\n",
       " 'http://mek.oszk.hu/00500/00588/html/versek01.htmvers0101.htm#05',\n",
       " 'http://mek.oszk.hu/00500/00588/html/versek01.htmvers0101.htm#06',\n",
       " 'http://mek.oszk.hu/00500/00588/html/versek01.htmvers0101.htm#07',\n",
       " 'http://mek.oszk.hu/00500/00588/html/versek01.htmvers0101.htm#08',\n",
       " 'http://mek.oszk.hu/00500/00588/html/versek01.htmvers0101.htm#09',\n",
       " 'http://mek.oszk.hu/00500/00588/html/versek01.htmvers0101.htm#10',\n",
       " 'http://mek.oszk.hu/00500/00588/html/versek01.htmvers0101.htm#11',\n",
       " 'http://mek.oszk.hu/00500/00588/html/versek01.htmvers0101.htm#12',\n",
       " 'http://mek.oszk.hu/00500/00588/html/versek01.htmvers0101.htm#13',\n",
       " 'http://mek.oszk.hu/00500/00588/html/versek01.htmvers0101.htm#14',\n",
       " 'http://mek.oszk.hu/00500/00588/html/versek01.htmvers0101.htm#15',\n",
       " 'http://mek.oszk.hu/00500/00588/html/versek01.htmvers0101.htm#16',\n",
       " 'http://mek.oszk.hu/00500/00588/html/versek01.htmvers0101.htm#17',\n",
       " 'http://mek.oszk.hu/00500/00588/html/versek01.htmvers0101.htm#18',\n",
       " 'http://mek.oszk.hu/00500/00588/html/versek01.htmvers0101.htm#19',\n",
       " 'http://mek.oszk.hu/00500/00588/html/versek01.htmvers0101.htm#20',\n",
       " 'http://mek.oszk.hu/00500/00588/html/versek01.htmvers0101.htm#21',\n",
       " 'http://mek.oszk.hu/00500/00588/html/versek01.htmvers0101.htm#22',\n",
       " 'http://mek.oszk.hu/00500/00588/html/versek01.htmvers0101.htm#23',\n",
       " 'http://mek.oszk.hu/00500/00588/html/versek01.htmvers0101.htm#24',\n",
       " 'http://mek.oszk.hu/00500/00588/html/versek01.htmvers0101.htm#25',\n",
       " 'http://mek.oszk.hu/00500/00588/html/versek01.htmvers0101.htm#26',\n",
       " 'http://mek.oszk.hu/00500/00588/html/versek01.htmvers0101.htm#27',\n",
       " 'http://mek.oszk.hu/00500/00588/html/versek01.htmvers0101.htm#28',\n",
       " 'http://mek.oszk.hu/00500/00588/html/versek01.htmvers0101.htm#29',\n",
       " 'http://mek.oszk.hu/00500/00588/html/versek01.htmvers0101.htm#30',\n",
       " 'http://mek.oszk.hu/00500/00588/html/versek01.htmvers0101.htm#31',\n",
       " 'http://mek.oszk.hu/00500/00588/html/versek01.htmvers0101.htm#32',\n",
       " 'http://mek.oszk.hu/00500/00588/html/versek01.htmvers0101.htm#33',\n",
       " 'http://mek.oszk.hu/00500/00588/html/versek01.htmvers0101.htm#34',\n",
       " 'http://mek.oszk.hu/00500/00588/html/versek01.htmvers0101.htm#35',\n",
       " 'http://mek.oszk.hu/00500/00588/html/versek01.htmvers0101.htm#36',\n",
       " 'http://mek.oszk.hu/00500/00588/html/versek01.htmvers0101.htm#37',\n",
       " 'http://mek.oszk.hu/00500/00588/html/versek01.htmvers0102.htm#38',\n",
       " 'http://mek.oszk.hu/00500/00588/html/versek01.htmvers0102.htm#39',\n",
       " 'http://mek.oszk.hu/00500/00588/html/versek01.htmvers0102.htm#40',\n",
       " 'http://mek.oszk.hu/00500/00588/html/versek01.htmvers0102.htm#41',\n",
       " 'http://mek.oszk.hu/00500/00588/html/versek01.htmvers0102.htm#42',\n",
       " 'http://mek.oszk.hu/00500/00588/html/versek01.htmvers0102.htm#43',\n",
       " 'http://mek.oszk.hu/00500/00588/html/versek01.htmvers0102.htm#44',\n",
       " 'http://mek.oszk.hu/00500/00588/html/versek01.htmvers0102.htm#45',\n",
       " 'http://mek.oszk.hu/00500/00588/html/versek01.htmvers0102.htm#46',\n",
       " 'http://mek.oszk.hu/00500/00588/html/versek01.htmvers0102.htm#47',\n",
       " 'http://mek.oszk.hu/00500/00588/html/versek01.htmvers0102.htm#48',\n",
       " 'http://mek.oszk.hu/00500/00588/html/versek01.htmvers0102.htm#49',\n",
       " 'http://mek.oszk.hu/00500/00588/html/versek01.htmvers0102.htm#50',\n",
       " 'http://mek.oszk.hu/00500/00588/html/versek01.htmvers0102.htm#51',\n",
       " 'http://mek.oszk.hu/00500/00588/html/versek01.htmvers0102.htm#52',\n",
       " 'http://mek.oszk.hu/00500/00588/html/versek01.htmvers0102.htm#53',\n",
       " 'http://mek.oszk.hu/00500/00588/html/versek01.htmvers0102.htm#54',\n",
       " 'http://mek.oszk.hu/00500/00588/html/versek01.htmvers0102.htm#55',\n",
       " 'http://mek.oszk.hu/00500/00588/html/versek01.htmvers0102.htm#56',\n",
       " 'http://mek.oszk.hu/00500/00588/html/versek01.htmvers0102.htm#57',\n",
       " 'http://mek.oszk.hu/00500/00588/html/versek01.htmvers0102.htm#58',\n",
       " 'http://mek.oszk.hu/00500/00588/html/versek01.htmvers0102.htm#59',\n",
       " 'http://mek.oszk.hu/00500/00588/html/versek01.htmvers0102.htm#60',\n",
       " 'http://mek.oszk.hu/00500/00588/html/versek01.htmvers0102.htm#61',\n",
       " 'http://mek.oszk.hu/00500/00588/html/versek01.htmvers0102.htm#62',\n",
       " 'http://mek.oszk.hu/00500/00588/html/versek01.htmvers0102.htm#63',\n",
       " 'http://mek.oszk.hu/00500/00588/html/versek01.htmvers0102.htm#64',\n",
       " 'http://mek.oszk.hu/00500/00588/html/versek01.htmvers0102.htm#65',\n",
       " 'http://mek.oszk.hu/00500/00588/html/versek01.htmvers0102.htm#66',\n",
       " 'http://mek.oszk.hu/00500/00588/html/versek01.htmvers0102.htm#67',\n",
       " 'http://mek.oszk.hu/00500/00588/html/versek01.htmindex.htm']"
      ]
     },
     "execution_count": 29,
     "metadata": {},
     "output_type": "execute_result"
    }
   ],
   "source": [
    "get_links(links[0])"
   ]
  },
  {
   "cell_type": "code",
   "execution_count": null,
   "metadata": {},
   "outputs": [],
   "source": []
  }
 ],
 "metadata": {
  "kernelspec": {
   "display_name": "Python 3",
   "language": "python",
   "name": "python3"
  },
  "language_info": {
   "codemirror_mode": {
    "name": "ipython",
    "version": 3
   },
   "file_extension": ".py",
   "mimetype": "text/x-python",
   "name": "python",
   "nbconvert_exporter": "python",
   "pygments_lexer": "ipython3",
   "version": "3.6.8"
  },
  "toc": {
   "base_numbering": 1,
   "nav_menu": {},
   "number_sections": true,
   "sideBar": true,
   "skip_h1_title": false,
   "title_cell": "Table of Contents",
   "title_sidebar": "Contents",
   "toc_cell": false,
   "toc_position": {},
   "toc_section_display": true,
   "toc_window_display": false
  }
 },
 "nbformat": 4,
 "nbformat_minor": 2
}
